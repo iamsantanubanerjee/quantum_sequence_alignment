{
 "cells": [
  {
   "cell_type": "code",
   "execution_count": 1,
   "id": "e472e2ff",
   "metadata": {},
   "outputs": [],
   "source": [
    "# Importing required libraries\n",
    "import qiskit\n",
    "from qiskit import ClassicalRegister, QuantumRegister, QuantumCircuit\n",
    "from qiskit.visualization import plot_histogram\n",
    "from qiskit import Aer, execute, IBMQ\n",
    "from qiskit.providers.jobstatus import JobStatus\n",
    "\n",
    "import time\n",
    "from math import *\n",
    "import random\n",
    "import operator"
   ]
  },
  {
   "cell_type": "code",
   "execution_count": 2,
   "id": "58c22bc6",
   "metadata": {},
   "outputs": [
    {
     "name": "stdout",
     "output_type": "stream",
     "text": [
      "Main string length (N):  8\n",
      "Sub string length (M):  3\n",
      "Number of registers for each character (s):  3\n",
      "Total Qubits:  10\n"
     ]
    }
   ],
   "source": [
    "main_string = 'KTIIYTLM'\n",
    "search_string = 'YTL'\n",
    "\n",
    "N = len(main_string)\n",
    "M = len(search_string)\n",
    "s = ceil(log2(N - M))\n",
    "total_qubits = s * M + 1\n",
    "ancilla_bit_id = s * M\n",
    "\n",
    "print('Main string length (N): ', N)\n",
    "print('Sub string length (M): ', M)\n",
    "print('Number of registers for each character (s): ', s)\n",
    "print('Total Qubits: ', total_qubits)"
   ]
  },
  {
   "cell_type": "code",
   "execution_count": 3,
   "id": "e42ef4ba",
   "metadata": {},
   "outputs": [],
   "source": [
    "# Quantum Configuration\n",
    "qr = QuantumRegister(total_qubits, \"q\")\n",
    "cr = ClassicalRegister(s, \"c\")\n",
    "qc = QuantumCircuit(qr, cr)"
   ]
  },
  {
   "cell_type": "code",
   "execution_count": 4,
   "id": "62dc616c",
   "metadata": {
    "scrolled": true
   },
   "outputs": [],
   "source": [
    "# Initialize the qubits to uniform superposition\n",
    "for i in range(0, s):\n",
    "    qc.h(qr[i])\n",
    "    \n",
    "for i in range(0, M-1):\n",
    "    # Add CNOT gates to copy positional encoding to the next set\n",
    "    for j in range(0, s):\n",
    "        qc.cx(qr[i * s + j], qr[(i + 1) * s + j])\n",
    "    qc.barrier()\n",
    "    # Increment the positional encoding\n",
    "    for j in range(0, s):\n",
    "        inverted_control_bit = (i + 1) * s - (j + 1)\n",
    "        # Flip the first control bit\n",
    "        qc.x(qr[inverted_control_bit])\n",
    "        control_bits = list(range(inverted_control_bit, (i + 1) * s))\n",
    "        # Apply multi-controlled CX\n",
    "        for target_bits in range((i + 2) * s - 1, inverted_control_bit + s - 1, -1):\n",
    "            qc.mcx(control_bits, target_bits, ancilla_qubits = [target_bits + 1])\n",
    "        # Unflip the first control bit\n",
    "        qc.x(qr[inverted_control_bit])\n",
    "        qc.barrier()"
   ]
  },
  {
   "cell_type": "code",
   "execution_count": 5,
   "id": "ca81ebb7",
   "metadata": {},
   "outputs": [],
   "source": [
    "# The Oracle Function\n",
    "def oracle_function(search_base, start_index):\n",
    "    target_bit = (start_index + 1) * s - 1\n",
    "    for i, base in enumerate(main_string):\n",
    "        if base == search_base:\n",
    "            # Binary representation of 'i' as a string\n",
    "            binary_i = format(i, '0'+str(s)+'b')\n",
    "\n",
    "            # Convert Binary representation using Phase gate\n",
    "            for j in range(0, s):\n",
    "                if binary_i[j] == '0':\n",
    "                    qc.x(qr[start_index * s + j])\n",
    "                    \n",
    "            qc.barrier()\n",
    "            qc.h(qr[target_bit])\n",
    "\n",
    "            control_bits = list(range(start_index * s, target_bit))\n",
    "            # Apply multi controlled CX\n",
    "            qc.mct(control_bits, target_bit, ancilla_qubits = [target_bit + 1])\n",
    "            \n",
    "            qc.h(qr[target_bit])\n",
    "            qc.barrier()\n",
    "\n",
    "            # Uncomputation of Phase gate\n",
    "            for j in range(0, s):\n",
    "                if binary_i[j] == '0':\n",
    "                    qc.x(qr[start_index * s + j])\n",
    "                    \n",
    "    qc.barrier()\n",
    "    return"
   ]
  },
  {
   "cell_type": "code",
   "execution_count": 6,
   "id": "8f83fb74",
   "metadata": {},
   "outputs": [],
   "source": [
    "# Grover's amplitude amplification function\n",
    "def amplitude_amplification():\n",
    "    target_bit = ancilla_bit_id - 1\n",
    "\n",
    "    for i in range(0, ancilla_bit_id):\n",
    "        qc.h(qr[i])\n",
    "        qc.x(qr[i])\n",
    "    \n",
    "    qc.barrier()\n",
    "    qc.h(qr[ancilla_bit_id - 1])\n",
    " \n",
    "    control_bits = list(range(0, target_bit))\n",
    "    qc.mcx(control_bits, target_bit, ancilla_qubits = [ancilla_bit_id])\n",
    "    \n",
    "    qc.h(qr[ancilla_bit_id - 1])\n",
    "    qc.barrier()\n",
    "\n",
    "    for i in range(0, ancilla_bit_id):\n",
    "        qc.x(qr[i])\n",
    "        qc.h(qr[i])\n",
    "        \n",
    "    qc.barrier()\n",
    "    return"
   ]
  },
  {
   "cell_type": "code",
   "execution_count": 7,
   "id": "335a93b5",
   "metadata": {},
   "outputs": [],
   "source": [
    "# Applying Grover's Iterations\n",
    "grovers_iterations = int((sqrt(N/M)))\n",
    "for _ in range(0, grovers_iterations):\n",
    "    for i in range(0, M):\n",
    "        oracle_function(search_string[i], i)\n",
    "        amplitude_amplification()\n",
    "\n",
    "for i in range(0, s):\n",
    "    qc.measure(qr[i], cr[i])"
   ]
  },
  {
   "cell_type": "code",
   "execution_count": 8,
   "id": "a7a694bc",
   "metadata": {},
   "outputs": [],
   "source": [
    "#qc.draw('mpl')"
   ]
  },
  {
   "cell_type": "code",
   "execution_count": 9,
   "id": "4a8bc902",
   "metadata": {},
   "outputs": [
    {
     "data": {
      "image/png": "[encoded data removed]",
      "text/plain": [
       "<Figure size 504x360 with 1 Axes>"
      ]
     },
     "execution_count": 9,
     "metadata": {},
     "output_type": "execute_result"
    }
   ],
   "source": [
    "backend = Aer.get_backend('qasm_simulator')\n",
    "max_shots = 8192\n",
    "job = execute(qc, backend, shots = max_shots)\n",
    "counts = job.result().get_counts()\n",
    "plot_histogram(counts)"
   ]
  },
  {
   "cell_type": "code",
   "execution_count": 10,
   "id": "07ba1d5d",
   "metadata": {},
   "outputs": [],
   "source": [
    "# provider = IBMQ.load_account()\n",
    "# provider.backends()"
   ]
  },
  {
   "cell_type": "code",
   "execution_count": 11,
   "id": "8f2c21bc",
   "metadata": {},
   "outputs": [],
   "source": [
    "#backend = provider.get_backend('ibmq_athens')\n",
    "#max_shots = 8192\n",
    "#job = execute(qc, backend, shots = max_shots)\n",
    "#counts = job.result().get_counts()\n",
    "#plot_histogram(counts)"
   ]
  }
 ],
 "metadata": {
  "kernelspec": {
   "display_name": "Python 3",
   "language": "python",
   "name": "python3"
  },
  "language_info": {
   "codemirror_mode": {
    "name": "ipython",
    "version": 3
   },
   "file_extension": ".py",
   "mimetype": "text/x-python",
   "name": "python",
   "nbconvert_exporter": "python",
   "pygments_lexer": "ipython3",
   "version": "3.8.5"
  }
 },
 "nbformat": 4,
 "nbformat_minor": 5
}
